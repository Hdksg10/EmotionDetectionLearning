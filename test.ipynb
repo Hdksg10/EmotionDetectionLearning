{
 "cells": [
  {
   "cell_type": "code",
   "execution_count": 1,
   "metadata": {},
   "outputs": [],
   "source": [
    "from emotion.dataset import EmotionDataset"
   ]
  },
  {
   "cell_type": "code",
   "execution_count": 2,
   "metadata": {},
   "outputs": [
    {
     "name": "stderr",
     "output_type": "stream",
     "text": [
      "Loading angry: 100%|██████████| 3995/3995 [00:01<00:00, 2800.23it/s]\n",
      "Loading disgusted: 100%|██████████| 436/436 [00:00<00:00, 2836.94it/s]\n",
      "Loading fearful: 100%|██████████| 4097/4097 [00:01<00:00, 2725.06it/s]\n",
      "Loading happy: 100%|██████████| 7215/7215 [00:02<00:00, 2739.74it/s]\n",
      "Loading neutral: 100%|██████████| 4965/4965 [00:01<00:00, 2767.95it/s]\n",
      "Loading sad: 100%|██████████| 4830/4830 [00:01<00:00, 2749.04it/s]\n",
      "Loading surprised: 100%|██████████| 3171/3171 [00:01<00:00, 2788.43it/s]\n"
     ]
    }
   ],
   "source": [
    "edataset = EmotionDataset(\"./dataset/train\")"
   ]
  },
  {
   "cell_type": "code",
   "execution_count": 7,
   "metadata": {},
   "outputs": [
    {
     "name": "stdout",
     "output_type": "stream",
     "text": [
      "torch.Size([32, 1, 48, 48]) torch.Size([32])\n"
     ]
    }
   ],
   "source": [
    "from torch.utils.data import DataLoader\n",
    "loader = DataLoader(edataset, batch_size=32, shuffle=True)\n",
    "for batch in loader:\n",
    "    image, label = batch\n",
    "    print(image.shape, label.shape)\n",
    "    break"
   ]
  }
 ],
 "metadata": {
  "kernelspec": {
   "display_name": "torch",
   "language": "python",
   "name": "python3"
  },
  "language_info": {
   "codemirror_mode": {
    "name": "ipython",
    "version": 3
   },
   "file_extension": ".py",
   "mimetype": "text/x-python",
   "name": "python",
   "nbconvert_exporter": "python",
   "pygments_lexer": "ipython3",
   "version": "3.11.5"
  }
 },
 "nbformat": 4,
 "nbformat_minor": 2
}
